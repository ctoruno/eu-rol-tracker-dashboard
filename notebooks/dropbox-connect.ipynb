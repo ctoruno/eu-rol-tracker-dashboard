{
 "cells": [
  {
   "cell_type": "code",
   "execution_count": 3,
   "metadata": {},
   "outputs": [],
   "source": [
    "import os\n",
    "from dotenv import load_dotenv\n",
    "from dropbox import DropboxOAuth2FlowNoRedirect, Dropbox\n",
    "\n",
    "# Loading the App key/secret as environmental variables\n",
    "load_dotenv()\n",
    "app_key    = os.getenv(\"dbkey\")\n",
    "app_secret = os.getenv(\"dbsecret\")"
   ]
  },
  {
   "cell_type": "code",
   "execution_count": 4,
   "metadata": {},
   "outputs": [
    {
     "name": "stdout",
     "output_type": "stream",
     "text": [
      "1. Go to: https://www.dropbox.com/oauth2/authorize?response_type=code&client_id=b158mv44k20k9jw&token_access_type=offline\n",
      "2. Click \"Allow\" (you might have to log in first).\n",
      "3. Copy the authorization code.\n"
     ]
    }
   ],
   "source": [
    "# Setting up a OAuth 2 Flow Process\n",
    "auth_flow = DropboxOAuth2FlowNoRedirect(app_key, app_secret, token_access_type=\"offline\")\n",
    "authorize_url = auth_flow.start()\n",
    "print(\"1. Go to: \" + authorize_url)\n",
    "print(\"2. Click \\\"Allow\\\" (you might have to log in first).\")\n",
    "print(\"3. Copy the authorization code.\")"
   ]
  },
  {
   "cell_type": "code",
   "execution_count": 5,
   "metadata": {},
   "outputs": [
    {
     "data": {
      "text/plain": [
       "'Q4EYZrPbkbcAAAAAAAAAAYlNpKA_w1JGmzkA4dpQuXCh-g8Xk5MDjP27TevI_8zD'"
      ]
     },
     "execution_count": 5,
     "metadata": {},
     "output_type": "execute_result"
    }
   ],
   "source": [
    "# auth_code = \"ACCESS_CODE_HERE\"\n",
    "auth_code = \"v3n-hHokARQAAAAAAAAp3kuFfwm6-4KU7ElBxijt4OI\"\n",
    "\n",
    "try:\n",
    "    oauth_result = auth_flow.finish(auth_code)\n",
    "except Exception as e:\n",
    "    print('Error: %s' % (e,))\n",
    "    exit(1)\n",
    "oauth_result.refresh_token"
   ]
  }
 ],
 "metadata": {
  "kernelspec": {
   "display_name": "Python 3",
   "language": "python",
   "name": "python3"
  },
  "language_info": {
   "codemirror_mode": {
    "name": "ipython",
    "version": 3
   },
   "file_extension": ".py",
   "mimetype": "text/x-python",
   "name": "python",
   "nbconvert_exporter": "python",
   "pygments_lexer": "ipython3",
   "version": "3.11.9"
  }
 },
 "nbformat": 4,
 "nbformat_minor": 2
}
