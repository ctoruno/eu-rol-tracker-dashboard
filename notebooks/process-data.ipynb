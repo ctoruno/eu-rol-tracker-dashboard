{
 "cells": [
  {
   "cell_type": "code",
   "execution_count": 1,
   "metadata": {},
   "outputs": [],
   "source": [
    "import re\n",
    "import spacy\n",
    "import pandas as pd"
   ]
  },
  {
   "cell_type": "markdown",
   "metadata": {},
   "source": [
    "## Preprocessing"
   ]
  },
  {
   "cell_type": "code",
   "execution_count": 2,
   "metadata": {},
   "outputs": [],
   "source": [
    "# EU Member states\n",
    "eu_member_states = [\n",
    "    \"Austria\",\n",
    "    \"Belgium\",\n",
    "    \"Bulgaria\",\n",
    "    \"Croatia\",\n",
    "    \"Cyprus\",\n",
    "    \"Czechia\",\n",
    "    \"Denmark\",\n",
    "    \"Estonia\",\n",
    "    \"Finland\",\n",
    "    \"France\",\n",
    "    \"Germany\",\n",
    "    \"Greece\",\n",
    "    \"Hungary\",\n",
    "    \"Ireland\",\n",
    "    \"Italy\",\n",
    "    \"Latvia\",\n",
    "    \"Lithuania\",\n",
    "    \"Luxembourg\",\n",
    "    \"Malta\",\n",
    "    \"Netherlands\",\n",
    "    \"Poland\",\n",
    "    \"Portugal\",\n",
    "    \"Romania\",\n",
    "    \"Slovakia\",\n",
    "    \"Slovenia\",\n",
    "    \"Spain\",\n",
    "    \"Sweden\"\n",
    "]\n",
    "\n",
    "# Load NLP\n",
    "nlp = spacy.load('en_core_web_lg') # Remember to download the model by: $sudo python -m spacy download en_core_web_sm"
   ]
  },
  {
   "cell_type": "code",
   "execution_count": null,
   "metadata": {},
   "outputs": [],
   "source": [
    "class eudata:\n",
    "\n",
    "    def __init__(self, country, nlp):\n",
    "        self.country = country\n",
    "        self.data    = pd.read_parquet(f\"/Users/carlostoruno/Documents/GitHub/EU-copilot/data/{country}_master.parquet.gzip\")\n",
    "        self.nlp     = nlp\n",
    "    \n",
    "    def process_text(self, text):\n",
    "\n",
    "        # Remove URLs\n",
    "        text = re.sub(r\"http\\S+|www\\S+|https\\S+\", \"\", text, flags=re.MULTILINE)\n",
    "        \n",
    "        # Process text with spaCy\n",
    "        doc = self.nlp(text)\n",
    "        tokens = [token for token in doc if not token.is_stop and token.is_alpha]\n",
    "        lemmatized_tokens = [token.lemma_.lower() for token in tokens]\n",
    "\n",
    "        return \" \".join(lemmatized_tokens)\n",
    "    \n",
    "    def add_proctext(self):\n",
    "        preproc_texts = [self.process_text(article) for article in self.data[\"content_trans\"].to_list()]\n",
    "        self.data[\"cleaned_text\"] = preproc_texts\n",
    "        return self.data\n"
   ]
  },
  {
   "cell_type": "code",
   "execution_count": 7,
   "metadata": {},
   "outputs": [],
   "source": [
    "data = [eudata(country, nlp=nlp).add_proctext() for country in eu_member_states]"
   ]
  },
  {
   "cell_type": "code",
   "execution_count": 12,
   "metadata": {},
   "outputs": [],
   "source": [
    "for count, country in enumerate(eu_member_states):\n",
    "    data[count].to_parquet(\n",
    "        f\"/Users/carlostoruno/Documents/GitHub/EU-copilot/data/{country}_master.parquet.gzip\",\n",
    "        compression=\"gzip\"\n",
    "    )"
   ]
  },
  {
   "cell_type": "markdown",
   "metadata": {},
   "source": [
    "## Getting entities"
   ]
  },
  {
   "cell_type": "code",
   "execution_count": 12,
   "metadata": {},
   "outputs": [],
   "source": [
    "def get_entities(text, nlp=nlp):\n",
    "    NER_mod = nlp(text)\n",
    "    entities = [\n",
    "        str(ent) for ent in NER_mod.ents \n",
    "        if ent.label_ not in [\"DATE\", \"PRODUCT\", \"LANGUAGE\", \"DATE\", \"TIME\", \"PERCENT\", \"MONEY\", \"QUANTITY\", \"ORDINAL\", \"CARDINAL\"]\n",
    "    ]\n",
    "    unique_tokens = list(dict.fromkeys(\" \".join(entities).split()))\n",
    "    return \" \".join(unique_tokens)"
   ]
  },
  {
   "cell_type": "code",
   "execution_count": 16,
   "metadata": {},
   "outputs": [],
   "source": [
    "for country in eu_member_states:\n",
    "    data = pd.read_parquet(f\"../data/news-data/{country}_master.parquet.gzip\")\n",
    "    data[\"entities\"] = data[\"cleaned_text\"].apply(lambda x: get_entities(x))\n",
    "    data.to_parquet(\n",
    "        f\"../data/news-data/{country}_master.parquet.gzip\",\n",
    "        compression=\"gzip\"\n",
    "    )"
   ]
  }
 ],
 "metadata": {
  "kernelspec": {
   "display_name": "Python 3",
   "language": "python",
   "name": "python3"
  },
  "language_info": {
   "codemirror_mode": {
    "name": "ipython",
    "version": 3
   },
   "file_extension": ".py",
   "mimetype": "text/x-python",
   "name": "python",
   "nbconvert_exporter": "python",
   "pygments_lexer": "ipython3",
   "version": "3.11.9"
  }
 },
 "nbformat": 4,
 "nbformat_minor": 2
}
